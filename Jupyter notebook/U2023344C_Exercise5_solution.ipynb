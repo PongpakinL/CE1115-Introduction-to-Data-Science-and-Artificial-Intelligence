{
 "cells": [
  {
   "cell_type": "code",
   "execution_count": null,
   "metadata": {},
   "outputs": [],
   "source": [
    "# Basic Libraries\n",
    "import numpy as np\n",
    "import pandas as pd\n",
    "import seaborn as sb\n",
    "import matplotlib.pyplot as plt # we only need pyplot\n",
    "sb.set() # set the default Seaborn style for graphics"
   ]
  },
  {
   "cell_type": "code",
   "execution_count": null,
   "metadata": {},
   "outputs": [],
   "source": [
    "# import dataset and CentralAir\n",
    "houseData = pd.read_csv('train.csv')\n",
    "Central = pd.DataFrame(houseData['CentralAir'])"
   ]
  },
  {
   "cell_type": "code",
   "execution_count": null,
   "metadata": {},
   "outputs": [],
   "source": [
    "# problem 1\n",
    "# import SalePrice\n",
    "Sale = pd.DataFrame(houseData['SalePrice'])"
   ]
  },
  {
   "cell_type": "code",
   "execution_count": null,
   "metadata": {},
   "outputs": [],
   "source": [
    "# problem 1 part a\n",
    "# Plot the distribution\n",
    "sb.catplot(y = \"CentralAir\", data = Central, kind = \"count\")\n",
    "Central[\"CentralAir\"].value_counts()"
   ]
  },
  {
   "cell_type": "code",
   "execution_count": null,
   "metadata": {},
   "outputs": [],
   "source": [
    "# problem 1 part b\n",
    "# Create a joint dataframe by concatenating SalePrice and CentralAir\n",
    "CentralSale = pd.concat([Sale, Central], axis = 1).reindex(Sale.index)\n",
    "\n",
    "# Joint Boxplot of SalePrice against CentralAir\n",
    "f = plt.figure(figsize=(18, 6))\n",
    "sb.boxplot(x = \"SalePrice\", y = \"CentralAir\", data = CentralSale, orient = \"h\")"
   ]
  },
  {
   "cell_type": "code",
   "execution_count": null,
   "metadata": {},
   "outputs": [],
   "source": [
    "# problem 1 part c\n",
    "from sklearn.tree import DecisionTreeClassifier"
   ]
  },
  {
   "cell_type": "code",
   "execution_count": null,
   "metadata": {},
   "outputs": [],
   "source": [
    "# problem 1 part d\n",
    "# Train Set : 1100 samples\n",
    "Central_train = pd.DataFrame(Central[:1100])\n",
    "Sale_train = pd.DataFrame(Sale[:1100])\n",
    "\n",
    "# Test Set : 360 samples\n",
    "Central_test = pd.DataFrame(Central[-360:])\n",
    "Sale_test = pd.DataFrame(Sale[-360:])\n",
    "\n",
    "# Check the sample sizes\n",
    "print(\"Train Set :\", Central_train.shape, Sale_train.shape)\n",
    "print(\"Test Set  :\", Central_test.shape, Sale_test.shape)"
   ]
  },
  {
   "cell_type": "code",
   "execution_count": null,
   "metadata": {},
   "outputs": [],
   "source": [
    "# problem 1 part e\n",
    "# Train Dataset to predict the class\n",
    "dectree = DecisionTreeClassifier(max_depth = 2)\n",
    "dectree.fit(Sale_train, Central_train)"
   ]
  },
  {
   "cell_type": "code",
   "execution_count": null,
   "metadata": {},
   "outputs": [],
   "source": [
    "# problem 1 part f\n",
    "# Plot the trained Decision Tree\n",
    "from sklearn.tree import plot_tree\n",
    "\n",
    "f = plt.figure(figsize=(12,12))\n",
    "plot_tree(dectree, filled=True, rounded=True, \n",
    "          feature_names=[\"SalePrice\"], \n",
    "          class_names=[\"No\",\"Yes\"])"
   ]
  },
  {
   "cell_type": "code",
   "execution_count": null,
   "metadata": {},
   "outputs": [],
   "source": [
    "# problem 1 part g\n",
    "# Predict CentralAir corresponding to SalePrice Train\n",
    "Central_train_pred = dectree.predict(Sale_train)\n",
    "\n",
    "# Plot the two-way Confusion Matrix\n",
    "from sklearn.metrics import confusion_matrix\n",
    "sb.heatmap(confusion_matrix(Central_train, Central_train_pred), \n",
    "           annot = True, fmt=\".0f\", annot_kws={\"size\": 18})"
   ]
  },
  {
   "cell_type": "code",
   "execution_count": null,
   "metadata": {},
   "outputs": [],
   "source": [
    "# problem 1 part h\n",
    "# Print the Classification Accuracy\n",
    "print(\"Classification Accuracy \\t:\", dectree.score(Sale_train, Central_train))\n",
    "group_names = ['True Neg','False Pos', 'False Neg', 'True Pos']\n",
    "group_percentages = [\"{0:.2%}\".format(value) for value in\n",
    "                     confusion_matrix(Central_train, Central_train_pred).flatten()/len(Central_train)]\n",
    "labels = [f\"{v1}\\n{v2}\" for v1, v2 in\n",
    "          zip(group_names,group_percentages)]\n",
    "labels = np.asarray(labels).reshape(2,2)\n",
    "\n",
    "# Plot the two-way Confusion Matrix with accuravcy\n",
    "sb.heatmap(confusion_matrix(Central_train, Central_train_pred), \n",
    "           annot = labels, fmt=\"\", annot_kws={\"size\": 18})"
   ]
  },
  {
   "cell_type": "code",
   "execution_count": null,
   "metadata": {},
   "outputs": [],
   "source": [
    "# problem 1 part i\n",
    "# Predict CentralAir corresponding to SalePrice Test\n",
    "Central_test_pred = dectree.predict(Sale_test)\n",
    "\n",
    "# Plot the two-way Confusion Matrix\n",
    "from sklearn.metrics import confusion_matrix\n",
    "sb.heatmap(confusion_matrix(Central_test, Central_test_pred), \n",
    "           annot = True, fmt=\".0f\", annot_kws={\"size\": 18})"
   ]
  },
  {
   "cell_type": "code",
   "execution_count": null,
   "metadata": {},
   "outputs": [],
   "source": [
    "# problem 1 part j\n",
    "# Print the Classification Accuracy\n",
    "print(\"Classification Accuracy \\t:\", dectree.score(Sale_test, Central_test))\n",
    "group_names = ['True Neg','False Pos', 'False Neg', 'True Pos']\n",
    "group_percentages = [\"{0:.2%}\".format(value) for value in\n",
    "                     confusion_matrix(Central_test, Central_test_pred).flatten()/len(Central_test)]\n",
    "labels = [f\"{v1}\\n{v2}\" for v1, v2 in\n",
    "          zip(group_names,group_percentages)]\n",
    "labels = np.asarray(labels).reshape(2,2)\n",
    "\n",
    "# Plot the two-way Confusion Matrix with accuravcy\n",
    "sb.heatmap(confusion_matrix(Central_test, Central_test_pred), \n",
    "           annot = labels, fmt=\"\", annot_kws={\"size\": 18})"
   ]
  },
  {
   "cell_type": "code",
   "execution_count": null,
   "metadata": {},
   "outputs": [],
   "source": [
    "# problem 2 for GrLivArea\n",
    "# import GrLivArea\n",
    "GrLiv = pd.DataFrame(houseData['GrLivArea'])"
   ]
  },
  {
   "cell_type": "code",
   "execution_count": null,
   "metadata": {},
   "outputs": [],
   "source": [
    "# problem 2 for GrLivArea part a\n",
    "# Plot the distribution\n",
    "sb.catplot(y = \"CentralAir\", data = Central, kind = \"count\")\n",
    "Central[\"CentralAir\"].value_counts()"
   ]
  },
  {
   "cell_type": "code",
   "execution_count": null,
   "metadata": {},
   "outputs": [],
   "source": [
    "# problem 2 for GrLivArea part b\n",
    "# Create a joint dataframe by concatenating GrLivArea and CentralAir\n",
    "CentralGrLiv = pd.concat([GrLiv, Central], axis = 1).reindex(GrLiv.index)\n",
    "\n",
    "# Joint Boxplot of GrLivArea against CentralAir\n",
    "f = plt.figure(figsize=(18, 6))\n",
    "sb.boxplot(x = \"GrLivArea\", y = \"CentralAir\", data = CentralGrLiv, orient = \"h\")"
   ]
  },
  {
   "cell_type": "code",
   "execution_count": null,
   "metadata": {},
   "outputs": [],
   "source": [
    "# problem 2 for GrLivArea part c\n",
    "from sklearn.tree import DecisionTreeClassifier"
   ]
  },
  {
   "cell_type": "code",
   "execution_count": null,
   "metadata": {},
   "outputs": [],
   "source": [
    "# problem 2 for GrLivArea part d\n",
    "# Train Set : 1100 samples\n",
    "GrLiv_train = pd.DataFrame(GrLiv[:1100])\n",
    "\n",
    "# Test Set : 360 samples\n",
    "GrLiv_test = pd.DataFrame(GrLiv[-360:])\n",
    "\n",
    "# Check the sample sizes\n",
    "print(\"Train Set :\", Central_train.shape, GrLiv_train.shape)\n",
    "print(\"Test Set  :\", Central_test.shape, GrLiv_test.shape)"
   ]
  },
  {
   "cell_type": "code",
   "execution_count": null,
   "metadata": {},
   "outputs": [],
   "source": [
    "# problem 2 for GrLivArea part e\n",
    "# Train Dataset to predict the class\n",
    "dectree = DecisionTreeClassifier(max_depth = 2)\n",
    "dectree.fit(GrLiv_train, Central_train)"
   ]
  },
  {
   "cell_type": "code",
   "execution_count": null,
   "metadata": {},
   "outputs": [],
   "source": [
    "# problem 2 for GrLivArea part f\n",
    "# Plot the trained Decision Tree\n",
    "from sklearn.tree import plot_tree\n",
    "\n",
    "f = plt.figure(figsize=(12,12))\n",
    "plot_tree(dectree, filled=True, rounded=True, \n",
    "          feature_names=[\"GrLivArea\"], \n",
    "          class_names=[\"No\",\"Yes\"])"
   ]
  },
  {
   "cell_type": "code",
   "execution_count": null,
   "metadata": {},
   "outputs": [],
   "source": [
    "# problem 2 for GrLivArea part g \n",
    "# Predict CentralAir corresponding to GrLivArea Train\n",
    "Central_train_pred = dectree.predict(GrLiv_train)\n",
    "\n",
    "# Plot the two-way Confusion Matrix\n",
    "from sklearn.metrics import confusion_matrix\n",
    "sb.heatmap(confusion_matrix(Central_train, Central_train_pred), \n",
    "           annot = True, fmt=\".0f\", annot_kws={\"size\": 18})"
   ]
  },
  {
   "cell_type": "code",
   "execution_count": null,
   "metadata": {},
   "outputs": [],
   "source": [
    "# problem 2 for GrLivArea part h\n",
    "# Print the Classification Accuracy\n",
    "print(\"Classification Accuracy \\t:\", dectree.score(GrLiv_train, Central_train))\n",
    "group_names = ['True Neg','False Pos', 'False Neg', 'True Pos']\n",
    "group_percentages = [\"{0:.2%}\".format(value) for value in\n",
    "                     confusion_matrix(Central_train, Central_train_pred).flatten()/len(Central_train)]\n",
    "labels = [f\"{v1}\\n{v2}\" for v1, v2 in\n",
    "          zip(group_names,group_percentages)]\n",
    "labels = np.asarray(labels).reshape(2,2)\n",
    "\n",
    "# Plot the two-way Confusion Matrix with accuravcy\n",
    "sb.heatmap(confusion_matrix(Central_train, Central_train_pred), \n",
    "           annot = labels, fmt=\"\", annot_kws={\"size\": 18})"
   ]
  },
  {
   "cell_type": "code",
   "execution_count": null,
   "metadata": {},
   "outputs": [],
   "source": [
    "# problem 2 for GrLivArea part i\n",
    "# Predict CentralAir corresponding to GrLivArea Test\n",
    "Central_test_pred = dectree.predict(GrLiv_test)\n",
    "\n",
    "# Plot the two-way Confusion Matrix\n",
    "from sklearn.metrics import confusion_matrix\n",
    "sb.heatmap(confusion_matrix(Central_test, Central_test_pred), \n",
    "           annot = True, fmt=\".0f\", annot_kws={\"size\": 18})"
   ]
  },
  {
   "cell_type": "code",
   "execution_count": null,
   "metadata": {},
   "outputs": [],
   "source": [
    "# problem 2 for GrLivArea part j\n",
    "# Print the Classification Accuracy\n",
    "print(\"Classification Accuracy \\t:\", dectree.score(GrLiv_test, Central_test))\n",
    "group_names = ['True Neg','False Pos', 'False Neg', 'True Pos']\n",
    "group_percentages = [\"{0:.2%}\".format(value) for value in\n",
    "                     confusion_matrix(Central_test, Central_test_pred).flatten()/len(Central_test)]\n",
    "labels = [f\"{v1}\\n{v2}\" for v1, v2 in\n",
    "          zip(group_names,group_percentages)]\n",
    "labels = np.asarray(labels).reshape(2,2)\n",
    "\n",
    "# Plot the two-way Confusion Matrix with accuravcy\n",
    "sb.heatmap(confusion_matrix(Central_test, Central_test_pred), \n",
    "           annot = labels, fmt=\"\", annot_kws={\"size\": 18})"
   ]
  },
  {
   "cell_type": "code",
   "execution_count": null,
   "metadata": {},
   "outputs": [],
   "source": [
    "# problem 2 for OverallQual\n",
    "# import OverallQual\n",
    "Overall = pd.DataFrame(houseData['OverallQual'])"
   ]
  },
  {
   "cell_type": "code",
   "execution_count": null,
   "metadata": {},
   "outputs": [],
   "source": [
    "# problem 2 for OverallQual part a\n",
    "# Plot the distribution\n",
    "sb.catplot(y = \"CentralAir\", data = Central, kind = \"count\")\n",
    "Central[\"CentralAir\"].value_counts()"
   ]
  },
  {
   "cell_type": "code",
   "execution_count": null,
   "metadata": {},
   "outputs": [],
   "source": [
    "# problem 2 for OverallQual part b\n",
    "# Create a joint dataframe by concatenating OverallQual and CentralAir\n",
    "CentralOverall = pd.concat([Overall, Central], axis = 1).reindex(Overall.index)\n",
    "\n",
    "# Joint Boxplot of OverallQual against CentralAir\n",
    "f = plt.figure(figsize=(18, 6))\n",
    "sb.boxplot(x = \"OverallQual\", y = \"CentralAir\", data = CentralOverall, orient = \"h\")"
   ]
  },
  {
   "cell_type": "code",
   "execution_count": null,
   "metadata": {},
   "outputs": [],
   "source": [
    "# problem 2 for OverallQual part c\n",
    "from sklearn.tree import DecisionTreeClassifier"
   ]
  },
  {
   "cell_type": "code",
   "execution_count": null,
   "metadata": {},
   "outputs": [],
   "source": [
    "# problem 2 for OverallQual part d\n",
    "# Train Set : 1100 samples\n",
    "Overall_train = pd.DataFrame(Overall[:1100])\n",
    "\n",
    "# Test Set : 360 samples\n",
    "Overall_test = pd.DataFrame(Overall[-360:])\n",
    "\n",
    "# Check the sample sizes\n",
    "print(\"Train Set :\", Central_train.shape, Overall_train.shape)\n",
    "print(\"Test Set  :\", Central_test.shape, Overall_test.shape)"
   ]
  },
  {
   "cell_type": "code",
   "execution_count": null,
   "metadata": {},
   "outputs": [],
   "source": [
    "# problem 2 for OverallQual part e\n",
    "# Train Dataset to predict the class\n",
    "dectree = DecisionTreeClassifier(max_depth = 2)\n",
    "dectree.fit(Overall_train, Central_train)"
   ]
  },
  {
   "cell_type": "code",
   "execution_count": null,
   "metadata": {},
   "outputs": [],
   "source": [
    "# problem 2 for OverallQual part f\n",
    "# Plot the trained Decision Tree\n",
    "from sklearn.tree import plot_tree\n",
    "\n",
    "f = plt.figure(figsize=(12,12))\n",
    "plot_tree(dectree, filled=True, rounded=True, \n",
    "          feature_names=[\"OverallQual\"], \n",
    "          class_names=[\"No\",\"Yes\"])"
   ]
  },
  {
   "cell_type": "code",
   "execution_count": null,
   "metadata": {},
   "outputs": [],
   "source": [
    "# problem 2 for OverallQual part g\n",
    "# Predict CentralAir corresponding to OverallQual Train\n",
    "Central_train_pred = dectree.predict(Overall_train)\n",
    "\n",
    "# Plot the two-way Confusion Matrix\n",
    "from sklearn.metrics import confusion_matrix\n",
    "sb.heatmap(confusion_matrix(Central_train, Central_train_pred), \n",
    "           annot = True, fmt=\".0f\", annot_kws={\"size\": 18})"
   ]
  },
  {
   "cell_type": "code",
   "execution_count": null,
   "metadata": {},
   "outputs": [],
   "source": [
    "# problem 2 for OverallQual part h\n",
    "# Print the Classification Accuracy\n",
    "print(\"Classification Accuracy \\t:\", dectree.score(Overall_train, Central_train))\n",
    "group_names = ['True Neg','False Pos', 'False Neg', 'True Pos']\n",
    "group_percentages = [\"{0:.2%}\".format(value) for value in\n",
    "                     confusion_matrix(Central_train, Central_train_pred).flatten()/len(Central_train)]\n",
    "labels = [f\"{v1}\\n{v2}\" for v1, v2 in\n",
    "          zip(group_names,group_percentages)]\n",
    "labels = np.asarray(labels).reshape(2,2)\n",
    "\n",
    "# Plot the two-way Confusion Matrix with accuravcy\n",
    "sb.heatmap(confusion_matrix(Central_train, Central_train_pred), \n",
    "           annot = labels, fmt=\"\", annot_kws={\"size\": 18})"
   ]
  },
  {
   "cell_type": "code",
   "execution_count": null,
   "metadata": {},
   "outputs": [],
   "source": [
    "# problem 2 for OverallQual part i\n",
    "# Predict CentralAir corresponding to OverallQual Test\n",
    "Central_test_pred = dectree.predict(Overall_test)\n",
    "\n",
    "# Plot the two-way Confusion Matrix\n",
    "from sklearn.metrics import confusion_matrix\n",
    "sb.heatmap(confusion_matrix(Central_test, Central_test_pred), \n",
    "           annot = True, fmt=\".0f\", annot_kws={\"size\": 18})"
   ]
  },
  {
   "cell_type": "code",
   "execution_count": null,
   "metadata": {},
   "outputs": [],
   "source": [
    "# problem 2 for OverallQual part j\n",
    "# Print the Classification Accuracy\n",
    "print(\"Classification Accuracy \\t:\", dectree.score(Overall_test, Central_test))\n",
    "group_names = ['True Neg','False Pos', 'False Neg', 'True Pos']\n",
    "group_percentages = [\"{0:.2%}\".format(value) for value in\n",
    "                     confusion_matrix(Central_test, Central_test_pred).flatten()/len(Central_test)]\n",
    "labels = [f\"{v1}\\n{v2}\" for v1, v2 in\n",
    "          zip(group_names,group_percentages)]\n",
    "labels = np.asarray(labels).reshape(2,2)\n",
    "\n",
    "# Plot the two-way Confusion Matrix with accuravcy\n",
    "sb.heatmap(confusion_matrix(Central_test, Central_test_pred), \n",
    "           annot = labels, fmt=\"\", annot_kws={\"size\": 18})"
   ]
  },
  {
   "cell_type": "code",
   "execution_count": null,
   "metadata": {},
   "outputs": [],
   "source": [
    "# problem 2 for YearBuilt\n",
    "# import YearBuilt\n",
    "Year = pd.DataFrame(houseData['YearBuilt'])"
   ]
  },
  {
   "cell_type": "code",
   "execution_count": null,
   "metadata": {},
   "outputs": [],
   "source": [
    "# problem 2 for YearBuilt part a\n",
    "# Plot the distribution\n",
    "sb.catplot(y = \"CentralAir\", data = Central, kind = \"count\")\n",
    "Central[\"CentralAir\"].value_counts()"
   ]
  },
  {
   "cell_type": "code",
   "execution_count": null,
   "metadata": {},
   "outputs": [],
   "source": [
    "# problem 2 for YearBuilt part b\n",
    "# Create a joint dataframe by concatenating YearBuilt and CentralAir\n",
    "CentralYear = pd.concat([Year, Central], axis = 1).reindex(Year.index)\n",
    "\n",
    "# Joint Boxplot of OverallQual against CentralAir\n",
    "f = plt.figure(figsize=(18, 6))\n",
    "sb.boxplot(x = \"YearBuilt\", y = \"CentralAir\", data = CentralYear, orient = \"h\")"
   ]
  },
  {
   "cell_type": "code",
   "execution_count": null,
   "metadata": {},
   "outputs": [],
   "source": [
    "# problem 2 for YearBuilt part c\n",
    "from sklearn.tree import DecisionTreeClassifier"
   ]
  },
  {
   "cell_type": "code",
   "execution_count": null,
   "metadata": {},
   "outputs": [],
   "source": [
    "# problem 2 for YearBuilt part d\n",
    "# Train Set : 1100 samples\n",
    "Year_train = pd.DataFrame(Year[:1100])\n",
    "\n",
    "# Test Set : 360 samples\n",
    "Year_test = pd.DataFrame(Year[-360:])\n",
    "\n",
    "# Check the sample sizes\n",
    "print(\"Train Set :\", Central_train.shape, Year_train.shape)\n",
    "print(\"Test Set  :\", Central_test.shape, Year_test.shape)"
   ]
  },
  {
   "cell_type": "code",
   "execution_count": null,
   "metadata": {},
   "outputs": [],
   "source": [
    "# problem 2 for YearBuilt part e\n",
    "# Train Dataset to predict the class\n",
    "dectree = DecisionTreeClassifier(max_depth = 2)\n",
    "dectree.fit(Year_train, Central_train)"
   ]
  },
  {
   "cell_type": "code",
   "execution_count": null,
   "metadata": {},
   "outputs": [],
   "source": [
    "# problem 2 for YearBuilt part f\n",
    "# Plot the trained Decision Tree\n",
    "from sklearn.tree import plot_tree\n",
    "\n",
    "f = plt.figure(figsize=(12,12))\n",
    "plot_tree(dectree, filled=True, rounded=True, \n",
    "          feature_names=[\"YearBuilt\"], \n",
    "          class_names=[\"No\",\"Yes\"])"
   ]
  },
  {
   "cell_type": "code",
   "execution_count": null,
   "metadata": {},
   "outputs": [],
   "source": [
    "# problem 2 for YearBuilt part g \n",
    "# Predict CentralAir corresponding to GrLivArea Train\n",
    "Central_train_pred = dectree.predict(Year_train)\n",
    "\n",
    "# Plot the two-way Confusion Matrix\n",
    "from sklearn.metrics import confusion_matrix\n",
    "sb.heatmap(confusion_matrix(Central_train, Central_train_pred), \n",
    "           annot = True, fmt=\".0f\", annot_kws={\"size\": 18})"
   ]
  },
  {
   "cell_type": "code",
   "execution_count": null,
   "metadata": {},
   "outputs": [],
   "source": [
    "# problem 2 for YearBuilt part h\n",
    "# Print the Classification Accuracy\n",
    "print(\"Classification Accuracy \\t:\", dectree.score(Year_train, Central_train))\n",
    "group_names = ['True Neg','False Pos', 'False Neg', 'True Pos']\n",
    "group_percentages = [\"{0:.2%}\".format(value) for value in\n",
    "                     confusion_matrix(Central_train, Central_train_pred).flatten()/len(Central_train)]\n",
    "labels = [f\"{v1}\\n{v2}\" for v1, v2 in\n",
    "          zip(group_names,group_percentages)]\n",
    "labels = np.asarray(labels).reshape(2,2)\n",
    "\n",
    "# Plot the two-way Confusion Matrix with accuravcy\n",
    "sb.heatmap(confusion_matrix(Central_train, Central_train_pred), \n",
    "           annot = labels, fmt=\"\", annot_kws={\"size\": 18})"
   ]
  },
  {
   "cell_type": "code",
   "execution_count": null,
   "metadata": {},
   "outputs": [],
   "source": [
    "# problem 2 for YearBuilt part i\n",
    "# Predict CentralAir corresponding to YearBuilt Test\n",
    "Central_test_pred = dectree.predict(Year_test)\n",
    "\n",
    "# Plot the two-way Confusion Matrix\n",
    "from sklearn.metrics import confusion_matrix\n",
    "sb.heatmap(confusion_matrix(Central_test, Central_test_pred), \n",
    "           annot = True, fmt=\".0f\", annot_kws={\"size\": 18})"
   ]
  },
  {
   "cell_type": "code",
   "execution_count": null,
   "metadata": {},
   "outputs": [],
   "source": [
    "# problem 2 for YearBuilt part j\n",
    "# Print the Classification Accuracy\n",
    "print(\"Classification Accuracy \\t:\", dectree.score(Year_test, Central_test))\n",
    "group_names = ['True Neg','False Pos', 'False Neg', 'True Pos']\n",
    "group_percentages = [\"{0:.2%}\".format(value) for value in\n",
    "                     confusion_matrix(Central_test, Central_test_pred).flatten()/len(Central_test)]\n",
    "labels = [f\"{v1}\\n{v2}\" for v1, v2 in\n",
    "          zip(group_names,group_percentages)]\n",
    "labels = np.asarray(labels).reshape(2,2)\n",
    "\n",
    "# Plot the two-way Confusion Matrix with accuravcy\n",
    "sb.heatmap(confusion_matrix(Central_test, Central_test_pred), \n",
    "           annot = labels, fmt=\"\", annot_kws={\"size\": 18})"
   ]
  },
  {
   "cell_type": "code",
   "execution_count": null,
   "metadata": {},
   "outputs": [],
   "source": [
    "# problem 3\n",
    "print(\"Classification Accuracy for SalePrice_train \\t:\", \"0.94\")\n",
    "print(\"Classification Accuracy for SalePrice_test \\t:\", \"0.9472222222222222\")\n",
    "print(\"Classification Accuracy for GrLivArea_train \\t:\", \"0.9354545454545454\")\n",
    "print(\"Classification Accuracy for GrLivArea_test \\t:\", \"0.9444444444444444\")\n",
    "print(\"Classification Accuracy for OverallQual_train \\t:\", \"0.9390909090909091\")\n",
    "print(\"Classification Accuracy for OverallQual_test \\t:\", \"0.9416666666666667\")\n",
    "print(\"Classification Accuracy for YearBuilt_train \\t:\", \"0.9327272727272727\")\n",
    "print(\"Classification Accuracy for YearBuilt_test \\t:\", \"0.9416666666666667\")\n",
    "print(\"From the accuracies, the best variables to predict CentralAir is SalePrice.\")\n",
    "print(\"This is because the SalePrice's accuracy scores are the highest for both train data and test data among other variables.\")"
   ]
  },
  {
   "cell_type": "code",
   "execution_count": null,
   "metadata": {},
   "outputs": [],
   "source": []
  }
 ],
 "metadata": {
  "kernelspec": {
   "display_name": "Python 3",
   "language": "python",
   "name": "python3"
  },
  "language_info": {
   "codemirror_mode": {
    "name": "ipython",
    "version": 3
   },
   "file_extension": ".py",
   "mimetype": "text/x-python",
   "name": "python",
   "nbconvert_exporter": "python",
   "pygments_lexer": "ipython3",
   "version": "3.8.7"
  }
 },
 "nbformat": 4,
 "nbformat_minor": 4
}
